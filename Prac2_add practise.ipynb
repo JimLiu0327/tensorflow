{
 "cells": [
  {
   "cell_type": "code",
   "execution_count": 5,
   "metadata": {},
   "outputs": [
    {
     "data": {
      "text/plain": [
       "array([4., 6.], dtype=float32)"
      ]
     },
     "execution_count": 5,
     "metadata": {},
     "output_type": "execute_result"
    }
   ],
   "source": [
    "import tensorflow as tf \n",
    "import numpy as np\n",
    "a = tf.constant([1.,2.],name='a')\n",
    "b = tf.constant([3.,4.],name='b')\n",
    "result = a + b\n",
    "\n",
    "sess = tf.Session()\n",
    "sess.run(result)\n"
   ]
  },
  {
   "cell_type": "code",
   "execution_count": null,
   "metadata": {},
   "outputs": [],
   "source": [
    "init = tf.global_variables_initializer()\n",
    "\n",
    "with tf.Session as sess:\n",
    "    sess.run(result)\n",
    "    print(result)\n"
   ]
  },
  {
   "cell_type": "code",
   "execution_count": 12,
   "metadata": {},
   "outputs": [
    {
     "name": "stdout",
     "output_type": "stream",
     "text": [
      "[[3.957578]]\n"
     ]
    }
   ],
   "source": [
    "import tensorflow as tf \n",
    "w1 = tf.Variable(tf.random_normal((2,3),stddev=1,seed=1))\n",
    "w2 = tf.Variable(tf.random_normal((3,1),stddev=1,seed=1)) \n",
    "x_input = tf.constant([[0.7,0.9]])\n",
    "a = tf.matmul(x_input, w1)\n",
    "y = tf.matmul(a, w2)\n",
    "sess = tf.Session()\n",
    "sess.run(w1.initializer)\n",
    "sess.run(w2.initializer)\n",
    "print(sess.run(y))\n",
    "sess.close()"
   ]
  },
  {
   "cell_type": "code",
   "execution_count": 3,
   "metadata": {},
   "outputs": [
    {
     "name": "stdout",
     "output_type": "stream",
     "text": [
      "[[3.957578]]\n"
     ]
    }
   ],
   "source": [
    "# 明白会话形成的两种方法‘注意直接print(y)输出的是y这个节点的属性，具体见梁博文P43’\n",
    "import tensorflow as tf\n",
    "x_input = tf.constant([[0.7,0.9]])\n",
    "w1 = tf.Variable(tf.random_normal((2,3),stddev=1,seed=1))\n",
    "w2 = tf.Variable(tf.random_normal((3,1),stddev=1,seed=1))\n",
    "a = tf.matmul(x_input,w1)\n",
    "y = tf.matmul(a,w2)\n",
    "with tf.Session() as sess:\n",
    "    sess.run(tf.global_variables_initializer())\n",
    "    sess.run(y)\n",
    "    print(sess.run(y))\n",
    "# sess = tf.Session()\n",
    "# sess.run(w1.initializer)\n",
    "# sess.run(w2.initializer)\n",
    "# sess.run(y)\n",
    "# print(y)\n",
    "# sess.close()"
   ]
  },
  {
   "cell_type": "code",
   "execution_count": 7,
   "metadata": {},
   "outputs": [
    {
     "name": "stdout",
     "output_type": "stream",
     "text": [
      "[[12.236414]]\n",
      "[[-0.8113182   1.4845988   0.06532937]\n",
      " [-2.4427042   0.0992484   0.5912243 ]]\n"
     ]
    }
   ],
   "source": [
    "# 练习前向传播算法\n",
    "\n",
    "import tensorflow as tf \n",
    "x_input = tf.constant([[2.0,3.0]])\n",
    "w1 = tf.Variable(tf.random_normal((2,3),stddev=1,seed=1))\n",
    "w2 = tf.Variable(tf.random_normal((3,1),stddev=1,seed=1))\n",
    "a = tf.matmul(x_input,w1)\n",
    "y = tf.matmul(a,w2)\n",
    "with tf.Session() as sess:\n",
    "    sess.run(tf.global_variables_initializer())\n",
    "    sess.run(y)\n",
    "    print(sess.run(y))\n",
    "    print(sess.run(w1))"
   ]
  },
  {
   "cell_type": "code",
   "execution_count": 13,
   "metadata": {
    "scrolled": true
   },
   "outputs": [
    {
     "name": "stdout",
     "output_type": "stream",
     "text": [
      "[[0.5600321]]\n"
     ]
    }
   ],
   "source": [
    "# 说明问题：注释的内容在于对输入x的定义有不同的方法\n",
    "\n",
    "import tensorflow as tf \n",
    "# x = tf.placeholder(tf.float32,shape=(1,2),name=\"input\")\n",
    "x = tf.constant([[0.7,0.9]])\n",
    "w1 = tf.Variable(tf.random_normal([2,3],stddev=1))\n",
    "w2 = tf.Variable(tf.random_normal([3,1],stddev=1))\n",
    "a = tf.matmul(x,w1)\n",
    "y = tf.matmul(a,w2)\n",
    "with tf.Session() as sess:\n",
    "    init = tf.global_variables_initializer()\n",
    "    sess.run(init)\n",
    "    print(sess.run(y))\n",
    "#     print(sess.run(y,feed_dict={x:[[0.7,0.9]]}))"
   ]
  },
  {
   "cell_type": "code",
   "execution_count": 4,
   "metadata": {
    "scrolled": true
   },
   "outputs": [
    {
     "name": "stdout",
     "output_type": "stream",
     "text": [
      "请输入身高:170\n",
      "请输入体重:60\n",
      "小明的身高为:170.00,体重为60.00\n",
      "过轻\n",
      "小明的BMI指数为:0.0020761245674740486\n"
     ]
    }
   ],
   "source": [
    "h=float(input(\"请输入身高:\"))\n",
    "w=float(input(\"请输入体重:\"))\n",
    " \n",
    "print(\"小明的身高为:%.2f,体重为%.2f\"%(h,w))\n",
    " \n",
    "bmi=w/(h**2)\n",
    "if bmi<18.5:\n",
    "    print(\"过轻\")\n",
    "elif bmi>=18.5 and bmi < 25:\n",
    "    print(\"正常\")\n",
    "elif bmi>=25 and bmi < 28:\n",
    "    print(\"过重\")\n",
    "elif bmi>=28 and bmi < 32:\n",
    "    print(\"肥胖\")\n",
    "else:\n",
    "    print(\"过度肥胖\")\n",
    "     \n",
    "print(\"小明的BMI指数为:%s\"%bmi)"
   ]
  },
  {
   "cell_type": "code",
   "execution_count": 5,
   "metadata": {},
   "outputs": [
    {
     "data": {
      "text/plain": [
       "'iloveyou'"
      ]
     },
     "execution_count": 5,
     "metadata": {},
     "output_type": "execute_result"
    }
   ],
   "source": [
    "str6=\"iloveyou\"\n",
    "str6.lstrip()"
   ]
  },
  {
   "cell_type": "code",
   "execution_count": 8,
   "metadata": {},
   "outputs": [
    {
     "name": "stdout",
     "output_type": "stream",
     "text": [
      "i l o v e y o u "
     ]
    }
   ],
   "source": [
    "favourite = \"iloveyou\"\n",
    "for i in favourite:\n",
    "    print(i, end=\" \")"
   ]
  },
  {
   "cell_type": "code",
   "execution_count": 2,
   "metadata": {},
   "outputs": [
    {
     "name": "stdout",
     "output_type": "stream",
     "text": [
      "[[15]]\n"
     ]
    }
   ],
   "source": [
    "import tensorflow as tf\n",
    "m1 = tf.constant([[3,3]])\n",
    "m2 = tf.constant([[2],[3]])\n",
    "product = tf.matmul(m1,m2)\n",
    "with tf.Session() as sess:\n",
    "    print(sess.run(product))"
   ]
  },
  {
   "cell_type": "code",
   "execution_count": null,
   "metadata": {},
   "outputs": [],
   "source": [
    "# 二次代价函数\n",
    "loss = tf.reduce_mean(tf.square(y-prediction))\n",
    "train_step = tf.train.GradientDescentOptimizer(0.2).minimize(loss)"
   ]
  }
 ],
 "metadata": {
  "celltoolbar": "Edit Metadata",
  "kernelspec": {
   "display_name": "Python 3",
   "language": "python",
   "name": "python3"
  },
  "language_info": {
   "codemirror_mode": {
    "name": "ipython",
    "version": 3
   },
   "file_extension": ".py",
   "mimetype": "text/x-python",
   "name": "python",
   "nbconvert_exporter": "python",
   "pygments_lexer": "ipython3",
   "version": "3.6.6"
  },
  "toc": {
   "base_numbering": 1,
   "nav_menu": {},
   "number_sections": true,
   "sideBar": true,
   "skip_h1_title": false,
   "title_cell": "Table of Contents",
   "title_sidebar": "Contents",
   "toc_cell": false,
   "toc_position": {},
   "toc_section_display": true,
   "toc_window_display": false
  }
 },
 "nbformat": 4,
 "nbformat_minor": 2
}
